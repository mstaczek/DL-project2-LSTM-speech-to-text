{
 "cells": [
  {
   "attachments": {},
   "cell_type": "markdown",
   "metadata": {},
   "source": [
    "# Whisper recompute accuracies for raw results for diff versions"
   ]
  },
  {
   "cell_type": "code",
   "execution_count": 15,
   "metadata": {},
   "outputs": [
    {
     "name": "stdout",
     "output_type": "stream",
     "text": [
      "Accuracy of the models:\n",
      "base.en: 0.0052\n",
      "large-v2: 0.7270\n",
      "large: 0.7290\n",
      "medium.en: 0.5793\n",
      "small.en: 0.2148\n",
      "tiny.en: 0.0006\n"
     ]
    }
   ],
   "source": [
    "import pandas as pd\n",
    "import os\n",
    "\n",
    "root_dir = 'whisper_raw_diff_architectures/'\n",
    "raw_csvs = os.listdir(root_dir)\n",
    "raw_csvs_dict = {f.split('_')[0]: pd.read_csv(root_dir + f, index_col=0) for f in raw_csvs}\n",
    "\n",
    "def clean_text(text):\n",
    "    text = '' if pd.isnull(text) else text\n",
    "    text = text.lower().replace(',', '').replace('.', '').replace('?', '').replace('!', '').replace('(', '').replace(')', '')\\\n",
    "                        .replace(';', '').replace(':', '').replace('\"', '').replace(\"'\", '').replace('  ', ' ').strip()\n",
    "    \n",
    "    text = text.replace('0', 'zero').replace('1', 'one').replace('2', 'two').replace('3', 'three').replace('4', 'four')\\\n",
    "                .replace('5', 'five').replace('6', 'six').replace('7', 'seven').replace('8', 'eight').replace('9', 'nine')\n",
    "    \n",
    "    if len(text) == 0:\n",
    "        text = '.'\n",
    "    if len(text) + 1  == len(text.replace(' ', '')) * 2:\n",
    "        text = text.replace(' ', '')\n",
    "    return text\n",
    "\n",
    "for k, v in raw_csvs_dict.items():\n",
    "    df = raw_csvs_dict[k]\n",
    "    df['hypothesis'] = df.apply(lambda x: clean_text(x['hypothesis']), axis=1)\n",
    "    raw_csvs_dict[k] = df\n",
    "\n",
    "def get_accuracy(df):\n",
    "    return len(df[df['hypothesis'] == df['reference']]) / len(df)\n",
    "\n",
    "print('Accuracy of the models:')\n",
    "for k, v in raw_csvs_dict.items():\n",
    "    print(f'{k}: {get_accuracy(v):.4f}')"
   ]
  }
 ],
 "metadata": {
  "kernelspec": {
   "display_name": "deep_learning",
   "language": "python",
   "name": "python3"
  },
  "language_info": {
   "codemirror_mode": {
    "name": "ipython",
    "version": 3
   },
   "file_extension": ".py",
   "mimetype": "text/x-python",
   "name": "python",
   "nbconvert_exporter": "python",
   "pygments_lexer": "ipython3",
   "version": "3.9.16"
  },
  "orig_nbformat": 4
 },
 "nbformat": 4,
 "nbformat_minor": 2
}
